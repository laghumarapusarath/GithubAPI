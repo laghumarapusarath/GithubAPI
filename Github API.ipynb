{
  "cells": [
    {
      "cell_type": "markdown",
      "metadata": {
        "pycharm": {
          "metadata": false
        }
      },
      "source": "#### Importing the requests module to handle the api requests"
    },
    {
      "cell_type": "code",
      "execution_count": 57,
      "metadata": {
        "pycharm": {
          "is_executing": false
        }
      },
      "outputs": [],
      "source": [
        "import requests"
      ]
    },
    {
      "cell_type": "markdown",
      "metadata": {
        "pycharm": {
          "metadata": false
        }
      },
      "source": "#### We need to use the below url to get all the information present in the public repositories of a user. My username is laghumarapusarath. "
    },
    {
      "cell_type": "code",
      "execution_count": 58,
      "metadata": {
        "pycharm": {
          "is_executing": false,
          "metadata": false,
          "name": "#%%\n"
        }
      },
      "outputs": [],
      "source": [
        "url \u003d \u0027https://api.github.com/users/laghumarapusarath/repos\u0027"
      ]
    },
    {
      "cell_type": "markdown",
      "metadata": {
        "pycharm": {
          "metadata": false
        }
      },
      "source": "#### Making the get request and storing the resulting json data into a variable "
    },
    {
      "cell_type": "code",
      "execution_count": 59,
      "metadata": {
        "pycharm": {
          "is_executing": false,
          "metadata": false,
          "name": "#%%\n"
        }
      },
      "outputs": [],
      "source": [
        "get_url_json \u003d requests.get(url).json()"
      ]
    },
    {
      "cell_type": "markdown",
      "metadata": {
        "pycharm": {
          "metadata": false
        }
      },
      "source": "#### The Json data is essentially stored in dictinoary format (Key-value pairs). Since I have two repositories the resulting data set is a list of two dictionaries."
    },
    {
      "cell_type": "code",
      "execution_count": 60,
      "metadata": {
        "pycharm": {
          "is_executing": false,
          "metadata": false,
          "name": "#%%\n"
        }
      },
      "outputs": [
        {
          "data": {
            "text/plain": "[{\u0027archive_url\u0027: \u0027https://api.github.com/repos/laghumarapusarath/GithubAPI/{archive_format}{/ref}\u0027,\n  \u0027archived\u0027: False,\n  \u0027assignees_url\u0027: \u0027https://api.github.com/repos/laghumarapusarath/GithubAPI/assignees{/user}\u0027,\n  \u0027blobs_url\u0027: \u0027https://api.github.com/repos/laghumarapusarath/GithubAPI/git/blobs{/sha}\u0027,\n  \u0027branches_url\u0027: \u0027https://api.github.com/repos/laghumarapusarath/GithubAPI/branches{/branch}\u0027,\n  \u0027clone_url\u0027: \u0027https://github.com/laghumarapusarath/GithubAPI.git\u0027,\n  \u0027collaborators_url\u0027: \u0027https://api.github.com/repos/laghumarapusarath/GithubAPI/collaborators{/collaborator}\u0027,\n  \u0027comments_url\u0027: \u0027https://api.github.com/repos/laghumarapusarath/GithubAPI/comments{/number}\u0027,\n  \u0027commits_url\u0027: \u0027https://api.github.com/repos/laghumarapusarath/GithubAPI/commits{/sha}\u0027,\n  \u0027compare_url\u0027: \u0027https://api.github.com/repos/laghumarapusarath/GithubAPI/compare/{base}...{head}\u0027,\n  \u0027contents_url\u0027: \u0027https://api.github.com/repos/laghumarapusarath/GithubAPI/contents/{+path}\u0027,\n  \u0027contributors_url\u0027: \u0027https://api.github.com/repos/laghumarapusarath/GithubAPI/contributors\u0027,\n  \u0027created_at\u0027: \u00272019-06-14T23:12:09Z\u0027,\n  \u0027default_branch\u0027: \u0027master\u0027,\n  \u0027deployments_url\u0027: \u0027https://api.github.com/repos/laghumarapusarath/GithubAPI/deployments\u0027,\n  \u0027description\u0027: \u0027Python code to get the names of the public repositories of a user\u0027,\n  \u0027disabled\u0027: False,\n  \u0027downloads_url\u0027: \u0027https://api.github.com/repos/laghumarapusarath/GithubAPI/downloads\u0027,\n  \u0027events_url\u0027: \u0027https://api.github.com/repos/laghumarapusarath/GithubAPI/events\u0027,\n  \u0027fork\u0027: False,\n  \u0027forks\u0027: 0,\n  \u0027forks_count\u0027: 0,\n  \u0027forks_url\u0027: \u0027https://api.github.com/repos/laghumarapusarath/GithubAPI/forks\u0027,\n  \u0027full_name\u0027: \u0027laghumarapusarath/GithubAPI\u0027,\n  \u0027git_commits_url\u0027: \u0027https://api.github.com/repos/laghumarapusarath/GithubAPI/git/commits{/sha}\u0027,\n  \u0027git_refs_url\u0027: \u0027https://api.github.com/repos/laghumarapusarath/GithubAPI/git/refs{/sha}\u0027,\n  \u0027git_tags_url\u0027: \u0027https://api.github.com/repos/laghumarapusarath/GithubAPI/git/tags{/sha}\u0027,\n  \u0027git_url\u0027: \u0027git://github.com/laghumarapusarath/GithubAPI.git\u0027,\n  \u0027has_downloads\u0027: True,\n  \u0027has_issues\u0027: True,\n  \u0027has_pages\u0027: False,\n  \u0027has_projects\u0027: True,\n  \u0027has_wiki\u0027: True,\n  \u0027homepage\u0027: None,\n  \u0027hooks_url\u0027: \u0027https://api.github.com/repos/laghumarapusarath/GithubAPI/hooks\u0027,\n  \u0027html_url\u0027: \u0027https://github.com/laghumarapusarath/GithubAPI\u0027,\n  \u0027id\u0027: 192015119,\n  \u0027issue_comment_url\u0027: \u0027https://api.github.com/repos/laghumarapusarath/GithubAPI/issues/comments{/number}\u0027,\n  \u0027issue_events_url\u0027: \u0027https://api.github.com/repos/laghumarapusarath/GithubAPI/issues/events{/number}\u0027,\n  \u0027issues_url\u0027: \u0027https://api.github.com/repos/laghumarapusarath/GithubAPI/issues{/number}\u0027,\n  \u0027keys_url\u0027: \u0027https://api.github.com/repos/laghumarapusarath/GithubAPI/keys{/key_id}\u0027,\n  \u0027labels_url\u0027: \u0027https://api.github.com/repos/laghumarapusarath/GithubAPI/labels{/name}\u0027,\n  \u0027language\u0027: \u0027Jupyter Notebook\u0027,\n  \u0027languages_url\u0027: \u0027https://api.github.com/repos/laghumarapusarath/GithubAPI/languages\u0027,\n  \u0027license\u0027: None,\n  \u0027merges_url\u0027: \u0027https://api.github.com/repos/laghumarapusarath/GithubAPI/merges\u0027,\n  \u0027milestones_url\u0027: \u0027https://api.github.com/repos/laghumarapusarath/GithubAPI/milestones{/number}\u0027,\n  \u0027mirror_url\u0027: None,\n  \u0027name\u0027: \u0027GithubAPI\u0027,\n  \u0027node_id\u0027: \u0027MDEwOlJlcG9zaXRvcnkxOTIwMTUxMTk\u003d\u0027,\n  \u0027notifications_url\u0027: \u0027https://api.github.com/repos/laghumarapusarath/GithubAPI/notifications{?since,all,participating}\u0027,\n  \u0027open_issues\u0027: 0,\n  \u0027open_issues_count\u0027: 0,\n  \u0027owner\u0027: {\u0027avatar_url\u0027: \u0027https://avatars3.githubusercontent.com/u/51184247?v\u003d4\u0027,\n   \u0027events_url\u0027: \u0027https://api.github.com/users/laghumarapusarath/events{/privacy}\u0027,\n   \u0027followers_url\u0027: \u0027https://api.github.com/users/laghumarapusarath/followers\u0027,\n   \u0027following_url\u0027: \u0027https://api.github.com/users/laghumarapusarath/following{/other_user}\u0027,\n   \u0027gists_url\u0027: \u0027https://api.github.com/users/laghumarapusarath/gists{/gist_id}\u0027,\n   \u0027gravatar_id\u0027: \u0027\u0027,\n   \u0027html_url\u0027: \u0027https://github.com/laghumarapusarath\u0027,\n   \u0027id\u0027: 51184247,\n   \u0027login\u0027: \u0027laghumarapusarath\u0027,\n   \u0027node_id\u0027: \u0027MDQ6VXNlcjUxMTg0MjQ3\u0027,\n   \u0027organizations_url\u0027: \u0027https://api.github.com/users/laghumarapusarath/orgs\u0027,\n   \u0027received_events_url\u0027: \u0027https://api.github.com/users/laghumarapusarath/received_events\u0027,\n   \u0027repos_url\u0027: \u0027https://api.github.com/users/laghumarapusarath/repos\u0027,\n   \u0027site_admin\u0027: False,\n   \u0027starred_url\u0027: \u0027https://api.github.com/users/laghumarapusarath/starred{/owner}{/repo}\u0027,\n   \u0027subscriptions_url\u0027: \u0027https://api.github.com/users/laghumarapusarath/subscriptions\u0027,\n   \u0027type\u0027: \u0027User\u0027,\n   \u0027url\u0027: \u0027https://api.github.com/users/laghumarapusarath\u0027},\n  \u0027private\u0027: False,\n  \u0027pulls_url\u0027: \u0027https://api.github.com/repos/laghumarapusarath/GithubAPI/pulls{/number}\u0027,\n  \u0027pushed_at\u0027: \u00272019-06-14T23:37:53Z\u0027,\n  \u0027releases_url\u0027: \u0027https://api.github.com/repos/laghumarapusarath/GithubAPI/releases{/id}\u0027,\n  \u0027size\u0027: 0,\n  \u0027ssh_url\u0027: \u0027git@github.com:laghumarapusarath/GithubAPI.git\u0027,\n  \u0027stargazers_count\u0027: 0,\n  \u0027stargazers_url\u0027: \u0027https://api.github.com/repos/laghumarapusarath/GithubAPI/stargazers\u0027,\n  \u0027statuses_url\u0027: \u0027https://api.github.com/repos/laghumarapusarath/GithubAPI/statuses/{sha}\u0027,\n  \u0027subscribers_url\u0027: \u0027https://api.github.com/repos/laghumarapusarath/GithubAPI/subscribers\u0027,\n  \u0027subscription_url\u0027: \u0027https://api.github.com/repos/laghumarapusarath/GithubAPI/subscription\u0027,\n  \u0027svn_url\u0027: \u0027https://github.com/laghumarapusarath/GithubAPI\u0027,\n  \u0027tags_url\u0027: \u0027https://api.github.com/repos/laghumarapusarath/GithubAPI/tags\u0027,\n  \u0027teams_url\u0027: \u0027https://api.github.com/repos/laghumarapusarath/GithubAPI/teams\u0027,\n  \u0027trees_url\u0027: \u0027https://api.github.com/repos/laghumarapusarath/GithubAPI/git/trees{/sha}\u0027,\n  \u0027updated_at\u0027: \u00272019-06-14T23:37:54Z\u0027,\n  \u0027url\u0027: \u0027https://api.github.com/repos/laghumarapusarath/GithubAPI\u0027,\n  \u0027watchers\u0027: 0,\n  \u0027watchers_count\u0027: 0},\n {\u0027archive_url\u0027: \u0027https://api.github.com/repos/laghumarapusarath/hello-world/{archive_format}{/ref}\u0027,\n  \u0027archived\u0027: False,\n  \u0027assignees_url\u0027: \u0027https://api.github.com/repos/laghumarapusarath/hello-world/assignees{/user}\u0027,\n  \u0027blobs_url\u0027: \u0027https://api.github.com/repos/laghumarapusarath/hello-world/git/blobs{/sha}\u0027,\n  \u0027branches_url\u0027: \u0027https://api.github.com/repos/laghumarapusarath/hello-world/branches{/branch}\u0027,\n  \u0027clone_url\u0027: \u0027https://github.com/laghumarapusarath/hello-world.git\u0027,\n  \u0027collaborators_url\u0027: \u0027https://api.github.com/repos/laghumarapusarath/hello-world/collaborators{/collaborator}\u0027,\n  \u0027comments_url\u0027: \u0027https://api.github.com/repos/laghumarapusarath/hello-world/comments{/number}\u0027,\n  \u0027commits_url\u0027: \u0027https://api.github.com/repos/laghumarapusarath/hello-world/commits{/sha}\u0027,\n  \u0027compare_url\u0027: \u0027https://api.github.com/repos/laghumarapusarath/hello-world/compare/{base}...{head}\u0027,\n  \u0027contents_url\u0027: \u0027https://api.github.com/repos/laghumarapusarath/hello-world/contents/{+path}\u0027,\n  \u0027contributors_url\u0027: \u0027https://api.github.com/repos/laghumarapusarath/hello-world/contributors\u0027,\n  \u0027created_at\u0027: \u00272019-05-30T02:57:01Z\u0027,\n  \u0027default_branch\u0027: \u0027master\u0027,\n  \u0027deployments_url\u0027: \u0027https://api.github.com/repos/laghumarapusarath/hello-world/deployments\u0027,\n  \u0027description\u0027: \u0027First repository\u0027,\n  \u0027disabled\u0027: False,\n  \u0027downloads_url\u0027: \u0027https://api.github.com/repos/laghumarapusarath/hello-world/downloads\u0027,\n  \u0027events_url\u0027: \u0027https://api.github.com/repos/laghumarapusarath/hello-world/events\u0027,\n  \u0027fork\u0027: False,\n  \u0027forks\u0027: 0,\n  \u0027forks_count\u0027: 0,\n  \u0027forks_url\u0027: \u0027https://api.github.com/repos/laghumarapusarath/hello-world/forks\u0027,\n  \u0027full_name\u0027: \u0027laghumarapusarath/hello-world\u0027,\n  \u0027git_commits_url\u0027: \u0027https://api.github.com/repos/laghumarapusarath/hello-world/git/commits{/sha}\u0027,\n  \u0027git_refs_url\u0027: \u0027https://api.github.com/repos/laghumarapusarath/hello-world/git/refs{/sha}\u0027,\n  \u0027git_tags_url\u0027: \u0027https://api.github.com/repos/laghumarapusarath/hello-world/git/tags{/sha}\u0027,\n  \u0027git_url\u0027: \u0027git://github.com/laghumarapusarath/hello-world.git\u0027,\n  \u0027has_downloads\u0027: True,\n  \u0027has_issues\u0027: True,\n  \u0027has_pages\u0027: False,\n  \u0027has_projects\u0027: True,\n  \u0027has_wiki\u0027: True,\n  \u0027homepage\u0027: None,\n  \u0027hooks_url\u0027: \u0027https://api.github.com/repos/laghumarapusarath/hello-world/hooks\u0027,\n  \u0027html_url\u0027: \u0027https://github.com/laghumarapusarath/hello-world\u0027,\n  \u0027id\u0027: 189335145,\n  \u0027issue_comment_url\u0027: \u0027https://api.github.com/repos/laghumarapusarath/hello-world/issues/comments{/number}\u0027,\n  \u0027issue_events_url\u0027: \u0027https://api.github.com/repos/laghumarapusarath/hello-world/issues/events{/number}\u0027,\n  \u0027issues_url\u0027: \u0027https://api.github.com/repos/laghumarapusarath/hello-world/issues{/number}\u0027,\n  \u0027keys_url\u0027: \u0027https://api.github.com/repos/laghumarapusarath/hello-world/keys{/key_id}\u0027,\n  \u0027labels_url\u0027: \u0027https://api.github.com/repos/laghumarapusarath/hello-world/labels{/name}\u0027,\n  \u0027language\u0027: None,\n  \u0027languages_url\u0027: \u0027https://api.github.com/repos/laghumarapusarath/hello-world/languages\u0027,\n  \u0027license\u0027: None,\n  \u0027merges_url\u0027: \u0027https://api.github.com/repos/laghumarapusarath/hello-world/merges\u0027,\n  \u0027milestones_url\u0027: \u0027https://api.github.com/repos/laghumarapusarath/hello-world/milestones{/number}\u0027,\n  \u0027mirror_url\u0027: None,\n  \u0027name\u0027: \u0027hello-world\u0027,\n  \u0027node_id\u0027: \u0027MDEwOlJlcG9zaXRvcnkxODkzMzUxNDU\u003d\u0027,\n  \u0027notifications_url\u0027: \u0027https://api.github.com/repos/laghumarapusarath/hello-world/notifications{?since,all,participating}\u0027,\n  \u0027open_issues\u0027: 0,\n  \u0027open_issues_count\u0027: 0,\n  \u0027owner\u0027: {\u0027avatar_url\u0027: \u0027https://avatars3.githubusercontent.com/u/51184247?v\u003d4\u0027,\n   \u0027events_url\u0027: \u0027https://api.github.com/users/laghumarapusarath/events{/privacy}\u0027,\n   \u0027followers_url\u0027: \u0027https://api.github.com/users/laghumarapusarath/followers\u0027,\n   \u0027following_url\u0027: \u0027https://api.github.com/users/laghumarapusarath/following{/other_user}\u0027,\n   \u0027gists_url\u0027: \u0027https://api.github.com/users/laghumarapusarath/gists{/gist_id}\u0027,\n   \u0027gravatar_id\u0027: \u0027\u0027,\n   \u0027html_url\u0027: \u0027https://github.com/laghumarapusarath\u0027,\n   \u0027id\u0027: 51184247,\n   \u0027login\u0027: \u0027laghumarapusarath\u0027,\n   \u0027node_id\u0027: \u0027MDQ6VXNlcjUxMTg0MjQ3\u0027,\n   \u0027organizations_url\u0027: \u0027https://api.github.com/users/laghumarapusarath/orgs\u0027,\n   \u0027received_events_url\u0027: \u0027https://api.github.com/users/laghumarapusarath/received_events\u0027,\n   \u0027repos_url\u0027: \u0027https://api.github.com/users/laghumarapusarath/repos\u0027,\n   \u0027site_admin\u0027: False,\n   \u0027starred_url\u0027: \u0027https://api.github.com/users/laghumarapusarath/starred{/owner}{/repo}\u0027,\n   \u0027subscriptions_url\u0027: \u0027https://api.github.com/users/laghumarapusarath/subscriptions\u0027,\n   \u0027type\u0027: \u0027User\u0027,\n   \u0027url\u0027: \u0027https://api.github.com/users/laghumarapusarath\u0027},\n  \u0027private\u0027: False,\n  \u0027pulls_url\u0027: \u0027https://api.github.com/repos/laghumarapusarath/hello-world/pulls{/number}\u0027,\n  \u0027pushed_at\u0027: \u00272019-05-30T03:07:33Z\u0027,\n  \u0027releases_url\u0027: \u0027https://api.github.com/repos/laghumarapusarath/hello-world/releases{/id}\u0027,\n  \u0027size\u0027: 1,\n  \u0027ssh_url\u0027: \u0027git@github.com:laghumarapusarath/hello-world.git\u0027,\n  \u0027stargazers_count\u0027: 0,\n  \u0027stargazers_url\u0027: \u0027https://api.github.com/repos/laghumarapusarath/hello-world/stargazers\u0027,\n  \u0027statuses_url\u0027: \u0027https://api.github.com/repos/laghumarapusarath/hello-world/statuses/{sha}\u0027,\n  \u0027subscribers_url\u0027: \u0027https://api.github.com/repos/laghumarapusarath/hello-world/subscribers\u0027,\n  \u0027subscription_url\u0027: \u0027https://api.github.com/repos/laghumarapusarath/hello-world/subscription\u0027,\n  \u0027svn_url\u0027: \u0027https://github.com/laghumarapusarath/hello-world\u0027,\n  \u0027tags_url\u0027: \u0027https://api.github.com/repos/laghumarapusarath/hello-world/tags\u0027,\n  \u0027teams_url\u0027: \u0027https://api.github.com/repos/laghumarapusarath/hello-world/teams\u0027,\n  \u0027trees_url\u0027: \u0027https://api.github.com/repos/laghumarapusarath/hello-world/git/trees{/sha}\u0027,\n  \u0027updated_at\u0027: \u00272019-05-30T03:07:24Z\u0027,\n  \u0027url\u0027: \u0027https://api.github.com/repos/laghumarapusarath/hello-world\u0027,\n  \u0027watchers\u0027: 0,\n  \u0027watchers_count\u0027: 0}]"
          },
          "metadata": {},
          "output_type": "execute_result",
          "execution_count": 60
        }
      ],
      "source": [
        "get_url_json"
      ]
    },
    {
      "cell_type": "markdown",
      "metadata": {
        "pycharm": {
          "metadata": false
        }
      },
      "source": "#### I am using a for loop to navigate through the list and printing the values of key \u0027name\u0027 as this key stores the repository name."
    },
    {
      "cell_type": "code",
      "execution_count": 61,
      "metadata": {
        "pycharm": {
          "is_executing": false,
          "metadata": false,
          "name": "#%%\n"
        }
      },
      "outputs": [
        {
          "name": "stdout",
          "text": [
            "GithubAPI\nhello-world\n"
          ],
          "output_type": "stream"
        }
      ],
      "source": "for repos in get_url_json:\n    print(repos[\u0027name\u0027])\n"
    }
  ],
  "metadata": {
    "kernelspec": {
      "display_name": "Python 3",
      "language": "python",
      "name": "python3"
    },
    "language_info": {
      "codemirror_mode": {
        "name": "ipython",
        "version": 3
      },
      "file_extension": ".py",
      "mimetype": "text/x-python",
      "name": "python",
      "nbconvert_exporter": "python",
      "pygments_lexer": "ipython3",
      "version": "3.6.4"
    },
    "stem_cell": {
      "cell_type": "raw",
      "metadata": {
        "pycharm": {
          "metadata": false
        }
      },
      "source": ""
    }
  },
  "nbformat": 4,
  "nbformat_minor": 1
}