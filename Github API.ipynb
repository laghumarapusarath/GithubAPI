{
 "cells": [
  {
   "cell_type": "markdown",
   "metadata": {
    "pycharm": {
     "metadata": false
    }
   },
   "source": [
    "### Importing the requests module to handle the api requests"
   ]
  },
  {
   "cell_type": "code",
   "execution_count": 1,
   "metadata": {
    "pycharm": {
     "is_executing": false
    }
   },
   "outputs": [],
   "source": [
    "import requests"
   ]
  },
  {
   "cell_type": "markdown",
   "metadata": {
    "pycharm": {
     "metadata": false
    }
   },
   "source": [
    "### We need to use the below url to get all the information present in the public repositories of a user. My username is laghumarapusarath. "
   ]
  },
  {
   "cell_type": "code",
   "execution_count": 2,
   "metadata": {
    "pycharm": {
     "is_executing": false,
     "metadata": false,
     "name": "#%%\n"
    }
   },
   "outputs": [],
   "source": [
    "url = 'https://api.github.com/users/laghumarapusarath/repos'"
   ]
  },
  {
   "cell_type": "markdown",
   "metadata": {
    "pycharm": {
     "metadata": false
    }
   },
   "source": [
    "### Making the get request and storing the resulting json data into a variable "
   ]
  },
  {
   "cell_type": "code",
   "execution_count": 3,
   "metadata": {
    "pycharm": {
     "is_executing": false,
     "metadata": false,
     "name": "#%%\n"
    }
   },
   "outputs": [],
   "source": [
    "get_url_json = requests.get(url).json()"
   ]
  },
  {
   "cell_type": "markdown",
   "metadata": {
    "pycharm": {
     "metadata": false
    }
   },
   "source": [
    "### The Json data is essentially stored in dictinoary format (Key-value pairs). Since I have two repositories the resulting data set is a list of two dictionaries."
   ]
  },
  {
   "cell_type": "code",
   "execution_count": 4,
   "metadata": {
    "pycharm": {
     "is_executing": false,
     "metadata": false,
     "name": "#%%\n"
    }
   },
   "outputs": [
    {
     "data": {
      "text/plain": [
       "[{'archive_url': 'https://api.github.com/repos/laghumarapusarath/GithubAPI/{archive_format}{/ref}',\n",
       "  'archived': False,\n",
       "  'assignees_url': 'https://api.github.com/repos/laghumarapusarath/GithubAPI/assignees{/user}',\n",
       "  'blobs_url': 'https://api.github.com/repos/laghumarapusarath/GithubAPI/git/blobs{/sha}',\n",
       "  'branches_url': 'https://api.github.com/repos/laghumarapusarath/GithubAPI/branches{/branch}',\n",
       "  'clone_url': 'https://github.com/laghumarapusarath/GithubAPI.git',\n",
       "  'collaborators_url': 'https://api.github.com/repos/laghumarapusarath/GithubAPI/collaborators{/collaborator}',\n",
       "  'comments_url': 'https://api.github.com/repos/laghumarapusarath/GithubAPI/comments{/number}',\n",
       "  'commits_url': 'https://api.github.com/repos/laghumarapusarath/GithubAPI/commits{/sha}',\n",
       "  'compare_url': 'https://api.github.com/repos/laghumarapusarath/GithubAPI/compare/{base}...{head}',\n",
       "  'contents_url': 'https://api.github.com/repos/laghumarapusarath/GithubAPI/contents/{+path}',\n",
       "  'contributors_url': 'https://api.github.com/repos/laghumarapusarath/GithubAPI/contributors',\n",
       "  'created_at': '2019-06-14T23:12:09Z',\n",
       "  'default_branch': 'master',\n",
       "  'deployments_url': 'https://api.github.com/repos/laghumarapusarath/GithubAPI/deployments',\n",
       "  'description': 'Python code to get the names of the public repositories of a user',\n",
       "  'disabled': False,\n",
       "  'downloads_url': 'https://api.github.com/repos/laghumarapusarath/GithubAPI/downloads',\n",
       "  'events_url': 'https://api.github.com/repos/laghumarapusarath/GithubAPI/events',\n",
       "  'fork': False,\n",
       "  'forks': 0,\n",
       "  'forks_count': 0,\n",
       "  'forks_url': 'https://api.github.com/repos/laghumarapusarath/GithubAPI/forks',\n",
       "  'full_name': 'laghumarapusarath/GithubAPI',\n",
       "  'git_commits_url': 'https://api.github.com/repos/laghumarapusarath/GithubAPI/git/commits{/sha}',\n",
       "  'git_refs_url': 'https://api.github.com/repos/laghumarapusarath/GithubAPI/git/refs{/sha}',\n",
       "  'git_tags_url': 'https://api.github.com/repos/laghumarapusarath/GithubAPI/git/tags{/sha}',\n",
       "  'git_url': 'git://github.com/laghumarapusarath/GithubAPI.git',\n",
       "  'has_downloads': True,\n",
       "  'has_issues': True,\n",
       "  'has_pages': False,\n",
       "  'has_projects': True,\n",
       "  'has_wiki': True,\n",
       "  'homepage': None,\n",
       "  'hooks_url': 'https://api.github.com/repos/laghumarapusarath/GithubAPI/hooks',\n",
       "  'html_url': 'https://github.com/laghumarapusarath/GithubAPI',\n",
       "  'id': 192015119,\n",
       "  'issue_comment_url': 'https://api.github.com/repos/laghumarapusarath/GithubAPI/issues/comments{/number}',\n",
       "  'issue_events_url': 'https://api.github.com/repos/laghumarapusarath/GithubAPI/issues/events{/number}',\n",
       "  'issues_url': 'https://api.github.com/repos/laghumarapusarath/GithubAPI/issues{/number}',\n",
       "  'keys_url': 'https://api.github.com/repos/laghumarapusarath/GithubAPI/keys{/key_id}',\n",
       "  'labels_url': 'https://api.github.com/repos/laghumarapusarath/GithubAPI/labels{/name}',\n",
       "  'language': None,\n",
       "  'languages_url': 'https://api.github.com/repos/laghumarapusarath/GithubAPI/languages',\n",
       "  'license': None,\n",
       "  'merges_url': 'https://api.github.com/repos/laghumarapusarath/GithubAPI/merges',\n",
       "  'milestones_url': 'https://api.github.com/repos/laghumarapusarath/GithubAPI/milestones{/number}',\n",
       "  'mirror_url': None,\n",
       "  'name': 'GithubAPI',\n",
       "  'node_id': 'MDEwOlJlcG9zaXRvcnkxOTIwMTUxMTk=',\n",
       "  'notifications_url': 'https://api.github.com/repos/laghumarapusarath/GithubAPI/notifications{?since,all,participating}',\n",
       "  'open_issues': 0,\n",
       "  'open_issues_count': 0,\n",
       "  'owner': {'avatar_url': 'https://avatars3.githubusercontent.com/u/51184247?v=4',\n",
       "   'events_url': 'https://api.github.com/users/laghumarapusarath/events{/privacy}',\n",
       "   'followers_url': 'https://api.github.com/users/laghumarapusarath/followers',\n",
       "   'following_url': 'https://api.github.com/users/laghumarapusarath/following{/other_user}',\n",
       "   'gists_url': 'https://api.github.com/users/laghumarapusarath/gists{/gist_id}',\n",
       "   'gravatar_id': '',\n",
       "   'html_url': 'https://github.com/laghumarapusarath',\n",
       "   'id': 51184247,\n",
       "   'login': 'laghumarapusarath',\n",
       "   'node_id': 'MDQ6VXNlcjUxMTg0MjQ3',\n",
       "   'organizations_url': 'https://api.github.com/users/laghumarapusarath/orgs',\n",
       "   'received_events_url': 'https://api.github.com/users/laghumarapusarath/received_events',\n",
       "   'repos_url': 'https://api.github.com/users/laghumarapusarath/repos',\n",
       "   'site_admin': False,\n",
       "   'starred_url': 'https://api.github.com/users/laghumarapusarath/starred{/owner}{/repo}',\n",
       "   'subscriptions_url': 'https://api.github.com/users/laghumarapusarath/subscriptions',\n",
       "   'type': 'User',\n",
       "   'url': 'https://api.github.com/users/laghumarapusarath'},\n",
       "  'private': False,\n",
       "  'pulls_url': 'https://api.github.com/repos/laghumarapusarath/GithubAPI/pulls{/number}',\n",
       "  'pushed_at': '2019-06-14T23:12:10Z',\n",
       "  'releases_url': 'https://api.github.com/repos/laghumarapusarath/GithubAPI/releases{/id}',\n",
       "  'size': 0,\n",
       "  'ssh_url': 'git@github.com:laghumarapusarath/GithubAPI.git',\n",
       "  'stargazers_count': 0,\n",
       "  'stargazers_url': 'https://api.github.com/repos/laghumarapusarath/GithubAPI/stargazers',\n",
       "  'statuses_url': 'https://api.github.com/repos/laghumarapusarath/GithubAPI/statuses/{sha}',\n",
       "  'subscribers_url': 'https://api.github.com/repos/laghumarapusarath/GithubAPI/subscribers',\n",
       "  'subscription_url': 'https://api.github.com/repos/laghumarapusarath/GithubAPI/subscription',\n",
       "  'svn_url': 'https://github.com/laghumarapusarath/GithubAPI',\n",
       "  'tags_url': 'https://api.github.com/repos/laghumarapusarath/GithubAPI/tags',\n",
       "  'teams_url': 'https://api.github.com/repos/laghumarapusarath/GithubAPI/teams',\n",
       "  'trees_url': 'https://api.github.com/repos/laghumarapusarath/GithubAPI/git/trees{/sha}',\n",
       "  'updated_at': '2019-06-14T23:12:12Z',\n",
       "  'url': 'https://api.github.com/repos/laghumarapusarath/GithubAPI',\n",
       "  'watchers': 0,\n",
       "  'watchers_count': 0},\n",
       " {'archive_url': 'https://api.github.com/repos/laghumarapusarath/hello-world/{archive_format}{/ref}',\n",
       "  'archived': False,\n",
       "  'assignees_url': 'https://api.github.com/repos/laghumarapusarath/hello-world/assignees{/user}',\n",
       "  'blobs_url': 'https://api.github.com/repos/laghumarapusarath/hello-world/git/blobs{/sha}',\n",
       "  'branches_url': 'https://api.github.com/repos/laghumarapusarath/hello-world/branches{/branch}',\n",
       "  'clone_url': 'https://github.com/laghumarapusarath/hello-world.git',\n",
       "  'collaborators_url': 'https://api.github.com/repos/laghumarapusarath/hello-world/collaborators{/collaborator}',\n",
       "  'comments_url': 'https://api.github.com/repos/laghumarapusarath/hello-world/comments{/number}',\n",
       "  'commits_url': 'https://api.github.com/repos/laghumarapusarath/hello-world/commits{/sha}',\n",
       "  'compare_url': 'https://api.github.com/repos/laghumarapusarath/hello-world/compare/{base}...{head}',\n",
       "  'contents_url': 'https://api.github.com/repos/laghumarapusarath/hello-world/contents/{+path}',\n",
       "  'contributors_url': 'https://api.github.com/repos/laghumarapusarath/hello-world/contributors',\n",
       "  'created_at': '2019-05-30T02:57:01Z',\n",
       "  'default_branch': 'master',\n",
       "  'deployments_url': 'https://api.github.com/repos/laghumarapusarath/hello-world/deployments',\n",
       "  'description': 'First repository',\n",
       "  'disabled': False,\n",
       "  'downloads_url': 'https://api.github.com/repos/laghumarapusarath/hello-world/downloads',\n",
       "  'events_url': 'https://api.github.com/repos/laghumarapusarath/hello-world/events',\n",
       "  'fork': False,\n",
       "  'forks': 0,\n",
       "  'forks_count': 0,\n",
       "  'forks_url': 'https://api.github.com/repos/laghumarapusarath/hello-world/forks',\n",
       "  'full_name': 'laghumarapusarath/hello-world',\n",
       "  'git_commits_url': 'https://api.github.com/repos/laghumarapusarath/hello-world/git/commits{/sha}',\n",
       "  'git_refs_url': 'https://api.github.com/repos/laghumarapusarath/hello-world/git/refs{/sha}',\n",
       "  'git_tags_url': 'https://api.github.com/repos/laghumarapusarath/hello-world/git/tags{/sha}',\n",
       "  'git_url': 'git://github.com/laghumarapusarath/hello-world.git',\n",
       "  'has_downloads': True,\n",
       "  'has_issues': True,\n",
       "  'has_pages': False,\n",
       "  'has_projects': True,\n",
       "  'has_wiki': True,\n",
       "  'homepage': None,\n",
       "  'hooks_url': 'https://api.github.com/repos/laghumarapusarath/hello-world/hooks',\n",
       "  'html_url': 'https://github.com/laghumarapusarath/hello-world',\n",
       "  'id': 189335145,\n",
       "  'issue_comment_url': 'https://api.github.com/repos/laghumarapusarath/hello-world/issues/comments{/number}',\n",
       "  'issue_events_url': 'https://api.github.com/repos/laghumarapusarath/hello-world/issues/events{/number}',\n",
       "  'issues_url': 'https://api.github.com/repos/laghumarapusarath/hello-world/issues{/number}',\n",
       "  'keys_url': 'https://api.github.com/repos/laghumarapusarath/hello-world/keys{/key_id}',\n",
       "  'labels_url': 'https://api.github.com/repos/laghumarapusarath/hello-world/labels{/name}',\n",
       "  'language': None,\n",
       "  'languages_url': 'https://api.github.com/repos/laghumarapusarath/hello-world/languages',\n",
       "  'license': None,\n",
       "  'merges_url': 'https://api.github.com/repos/laghumarapusarath/hello-world/merges',\n",
       "  'milestones_url': 'https://api.github.com/repos/laghumarapusarath/hello-world/milestones{/number}',\n",
       "  'mirror_url': None,\n",
       "  'name': 'hello-world',\n",
       "  'node_id': 'MDEwOlJlcG9zaXRvcnkxODkzMzUxNDU=',\n",
       "  'notifications_url': 'https://api.github.com/repos/laghumarapusarath/hello-world/notifications{?since,all,participating}',\n",
       "  'open_issues': 0,\n",
       "  'open_issues_count': 0,\n",
       "  'owner': {'avatar_url': 'https://avatars3.githubusercontent.com/u/51184247?v=4',\n",
       "   'events_url': 'https://api.github.com/users/laghumarapusarath/events{/privacy}',\n",
       "   'followers_url': 'https://api.github.com/users/laghumarapusarath/followers',\n",
       "   'following_url': 'https://api.github.com/users/laghumarapusarath/following{/other_user}',\n",
       "   'gists_url': 'https://api.github.com/users/laghumarapusarath/gists{/gist_id}',\n",
       "   'gravatar_id': '',\n",
       "   'html_url': 'https://github.com/laghumarapusarath',\n",
       "   'id': 51184247,\n",
       "   'login': 'laghumarapusarath',\n",
       "   'node_id': 'MDQ6VXNlcjUxMTg0MjQ3',\n",
       "   'organizations_url': 'https://api.github.com/users/laghumarapusarath/orgs',\n",
       "   'received_events_url': 'https://api.github.com/users/laghumarapusarath/received_events',\n",
       "   'repos_url': 'https://api.github.com/users/laghumarapusarath/repos',\n",
       "   'site_admin': False,\n",
       "   'starred_url': 'https://api.github.com/users/laghumarapusarath/starred{/owner}{/repo}',\n",
       "   'subscriptions_url': 'https://api.github.com/users/laghumarapusarath/subscriptions',\n",
       "   'type': 'User',\n",
       "   'url': 'https://api.github.com/users/laghumarapusarath'},\n",
       "  'private': False,\n",
       "  'pulls_url': 'https://api.github.com/repos/laghumarapusarath/hello-world/pulls{/number}',\n",
       "  'pushed_at': '2019-05-30T03:07:33Z',\n",
       "  'releases_url': 'https://api.github.com/repos/laghumarapusarath/hello-world/releases{/id}',\n",
       "  'size': 1,\n",
       "  'ssh_url': 'git@github.com:laghumarapusarath/hello-world.git',\n",
       "  'stargazers_count': 0,\n",
       "  'stargazers_url': 'https://api.github.com/repos/laghumarapusarath/hello-world/stargazers',\n",
       "  'statuses_url': 'https://api.github.com/repos/laghumarapusarath/hello-world/statuses/{sha}',\n",
       "  'subscribers_url': 'https://api.github.com/repos/laghumarapusarath/hello-world/subscribers',\n",
       "  'subscription_url': 'https://api.github.com/repos/laghumarapusarath/hello-world/subscription',\n",
       "  'svn_url': 'https://github.com/laghumarapusarath/hello-world',\n",
       "  'tags_url': 'https://api.github.com/repos/laghumarapusarath/hello-world/tags',\n",
       "  'teams_url': 'https://api.github.com/repos/laghumarapusarath/hello-world/teams',\n",
       "  'trees_url': 'https://api.github.com/repos/laghumarapusarath/hello-world/git/trees{/sha}',\n",
       "  'updated_at': '2019-05-30T03:07:24Z',\n",
       "  'url': 'https://api.github.com/repos/laghumarapusarath/hello-world',\n",
       "  'watchers': 0,\n",
       "  'watchers_count': 0}]"
      ]
     },
     "execution_count": 4,
     "metadata": {},
     "output_type": "execute_result"
    }
   ],
   "source": [
    "get_url_json"
   ]
  },
  {
   "cell_type": "markdown",
   "metadata": {
    "pycharm": {
     "metadata": false
    }
   },
   "source": [
    "### I am using a for loop to navigate through the list and printing the values of key 'name' as this key stores the repository name."
   ]
  },
  {
   "cell_type": "code",
   "execution_count": 5,
   "metadata": {
    "pycharm": {
     "is_executing": false,
     "metadata": false,
     "name": "#%%\n"
    }
   },
   "outputs": [
    {
     "name": "stdout",
     "output_type": "stream",
     "text": [
      "GithubAPI\n",
      "hello-world\n"
     ]
    }
   ],
   "source": [
    "for repos in get_url_json:\n",
    "    print(repos['name'])"
   ]
  }
 ],
 "metadata": {
  "kernelspec": {
   "display_name": "Python 3",
   "language": "python",
   "name": "python3"
  },
  "language_info": {
   "codemirror_mode": {
    "name": "ipython",
    "version": 3
   },
   "file_extension": ".py",
   "mimetype": "text/x-python",
   "name": "python",
   "nbconvert_exporter": "python",
   "pygments_lexer": "ipython3",
   "version": "3.6.4"
  },
  "stem_cell": {
   "cell_type": "raw",
   "metadata": {
    "pycharm": {
     "metadata": false
    }
   },
   "source": ""
  }
 },
 "nbformat": 4,
 "nbformat_minor": 1
}
